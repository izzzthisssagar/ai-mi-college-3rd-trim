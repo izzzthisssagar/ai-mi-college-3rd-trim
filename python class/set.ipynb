{
 "cells": [
  {
   "cell_type": "markdown",
   "id": "64f8f9ed",
   "metadata": {},
   "source": [
    "set is a collection of unique elements\n",
    "properties:\n",
    "no duplicates\n",
    "set is mutable\n",
    "set is unordered\n",
    "set is iterable\n",
    "set is indexed , we cannot access elements by index\n",
    "set is heterogeneous\n",
    "set is mutable\n",
    "set is not subscriptable\n",
    "set is not reversible\n",
    "set is not a sequence\n",
    "set is not a mapping\n",
    "set is not a type\n",
    "set is not a class\n",
    "set is not a module\n",
    "set is not a function\n",
    "set is not a method\n",
    "set is not a property\n",
    "set is not a descriptor\n",
    "set is not a callable\n",
    "set is not a context manager\n",
    "\n",
    "\n",
    "sets opteration :\n",
    "1.intersection - returns the common elements of two sets in a new set , & is used to find the common elements of two sets.\n",
    "2.union - returns the union of two sets , | is used to find the union of two sets.\n",
    "3.difference - returns the difference of two sets , - is used to find the difference of two sets.\n",
    "4.symmetric difference - returns the symmetric difference of two sets means the elements that are in one set or the other set but not in both sets, ^ is used to find the symmetric difference of two sets.\n",
    "5.issubset - returns True if all elements of the set are in the other set , <= is used to find if all elements of the set are in the other set.\n",
    "6.issuperset - returns True if all elements of the set are in the other set , >= is used to find if all elements of the set are in the other set.\n",
    "7.symmetric difference update - updates the set with the symmetric difference of itself and another set , ^ is used to find the symmetric difference of two sets.\n",
    "8.difference update - updates the set with the difference of itself and another set , - is used to find the difference of two sets.\n",
    "9.intersection update - updates the set with the intersection of itself and another set , & is used to find the intersection of two sets.\n",
    "10.union update - updates the set with the union of itself and another set , | is used to find the union of two sets.\n",
    "11.issubset update - updates the set with the intersection of itself and another set , <= is used to find the intersection of two sets.\n",
    "12.issuperset update - updates the set with the intersection of itself and another set , >= is used to find the intersection of two \n",
    "\n",
    "\n",
    "\n",
    "\n",
    "how to make empty set\n",
    "set()\n",
    "\n",
    "\n",
    "we cannot insert list in set because list is mutable and set is immutable\n",
    "we cannot insert dictionary in set because dictionary is mutable and set is immutable\n",
    "we cannot insert tuple in set because tuple is immutable and set is mutable\n",
    "we cannot insert string in set because string is immutable and set is mutable\n",
    "we cannot insert int in set because int is immutable and set is mutable\n",
    "we cannot insert float in set because float is immutable and set is mutable\n",
    "we cannot insert complex in set because complex is immutable and set is mutable\n",
    "we cannot insert bool in set because bool is immutable and set is mutable\n",
    "we cannot insert None in set because None is immutable and set is mutable\n",
    "we cannot insert range in set because range is immutable "
   ]
  },
  {
   "cell_type": "code",
   "execution_count": null,
   "id": "589765b5",
   "metadata": {},
   "outputs": [
    {
     "name": "stdout",
     "output_type": "stream",
     "text": [
      "{111, 112, 113, 114, 115, 116, 117, 118, 119, 120}\n",
      "{'d', 'a', 'e', 'f', 'c', 'b'}\n",
      "{130, 111, 112, 113, 114, 115, 116, 117, 118, 119, 120}\n",
      "{130, 131, 132, 133, 134, 135, 111, 112, 113, 114, 115, 116, 117, 118, 119, 120}\n"
     ]
    }
   ],
   "source": [
    "set_ids = {111,113,114,115,118,111,112,113,115,116,117,118,119,120}\n",
    "\n",
    "letter = {'a','b','c','d','e','f'}\n",
    "\n",
    "#set are mutable . however , since they are unordered , they are not indexed.\n",
    "\n",
    "print(set_ids)\n",
    "print(letter)\n",
    "\n",
    "#add items to a set\n",
    "set_ids.add(130)\n",
    "print(set_ids)\n",
    "\n",
    "\n",
    "#update() method is used to update a set with elements from another set or iterable.\n",
    "set_ids.update([131,132,133,134,135])\n",
    "print(set_ids)\n",
    "\n",
    "\n",
    "letter.update(['g','h','i','j'])#this is a list\n",
    "print(letter)\n",
    "\n",
    "\n",
    "names ={\"sagar\",\"shubham\",\"sahil\"}\n",
    "names_list= ([\"sahil\",\"hari\",\"sita\"])\n",
    "names.update(names_list)\n",
    "print(names)\n",
    "\n",
    "#remove items from a set\n",
    "set_ids.remove(111)\n",
    "print(set_ids)\n",
    "\n",
    "\n",
    "\n",
    "\n",
    "\n",
    "\n"
   ]
  },
  {
   "cell_type": "code",
   "execution_count": null,
   "id": "5f0c2357",
   "metadata": {},
   "outputs": [],
   "source": [
    "#create an empty set\n",
    "empty_set=set()\n",
    "print(type(empty_set))\n",
    "\n",
    "#create a empty dictionary\n",
    "empty_dict=dict()\n",
    "print(type(empty_dict))"
   ]
  },
  {
   "cell_type": "markdown",
   "id": "241bc250",
   "metadata": {},
   "source": [
    "##python opterations:\n",
    "\n"
   ]
  },
  {
   "cell_type": "code",
   "execution_count": 4,
   "id": "61252606",
   "metadata": {},
   "outputs": [
    {
     "name": "stdout",
     "output_type": "stream",
     "text": [
      "{1, 2, 3, 4, 5, 6, 7, 8, 9, 10}\n",
      "{4, 5}\n",
      "{1, 2, 3}\n",
      "{6, 7, 8, 9, 10}\n",
      "{1, 2, 3, 6, 7, 8, 9, 10}\n",
      "False\n",
      "False\n",
      "False\n",
      "False\n",
      "False\n",
      "None\n",
      "None\n",
      "None\n",
      "None\n",
      "None\n"
     ]
    }
   ],
   "source": [
    "A = {1,2,3,4,5}\n",
    "B = {4,5,6,7,8,9,10}\n",
    "print(A.union(B))\n",
    "print(A.intersection(B))\n",
    "print(A.difference(B))\n",
    "print(B.difference(A))\n",
    "print(A.symmetric_difference(B))\n",
    "print(A.issubset(B))\n",
    "print(A.issuperset(B))\n",
    "print(B.issubset(A))\n",
    "print(B.issuperset(A))\n",
    "print(A.isdisjoint(B))\n",
    "\n",
    "print(A.update(B))\n",
    "\n",
    "print(A.intersection_update(B))\n",
    "\n",
    "print(A.difference_update(B))\n",
    "\n",
    "print(A.symmetric_difference_update(B))\n",
    "\n",
    "\n",
    "print(A.add(11))\n",
    "\n",
    "\n"
   ]
  }
 ],
 "metadata": {
  "kernelspec": {
   "display_name": "Python 3",
   "language": "python",
   "name": "python3"
  },
  "language_info": {
   "codemirror_mode": {
    "name": "ipython",
    "version": 3
   },
   "file_extension": ".py",
   "mimetype": "text/x-python",
   "name": "python",
   "nbconvert_exporter": "python",
   "pygments_lexer": "ipython3",
   "version": "3.12.10"
  }
 },
 "nbformat": 4,
 "nbformat_minor": 5
}
