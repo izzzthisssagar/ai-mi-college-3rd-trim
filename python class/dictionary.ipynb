{
 "cells": [
  {
   "cell_type": "markdown",
   "id": "661d31d5",
   "metadata": {},
   "source": [
    "Dictionary: \n",
    "\n",
    "        dictionary could be nexted \n",
    "        dictionary keys are case sensitive\n",
    "\n",
    "\n",
    "{\n",
    "        \"key1\": \"value1\",\n",
    "        \"key2\": \"value2\",\n",
    "        \"key3\": \"value3\"\n",
    "}\n",
    "\n",
    "key bhaneko value lai define garnay property \n",
    "key chai jailay pani unique hunu parxa \n",
    "\n",
    "nexted dictionary bhitra key value same huna sakxa.\n",
    "{\n",
    "\n",
    "    {key1: \"value1\"},\n",
    "    {key1: \"value2\"},\n",
    "\n",
    "\n",
    "}\n",
    "\n"
   ]
  },
  {
   "cell_type": "code",
   "execution_count": 1,
   "id": "e6849aba",
   "metadata": {},
   "outputs": [
    {
     "name": "stdout",
     "output_type": "stream",
     "text": [
      "{'name': 'Sagar', 'age': 21, 'city': 'Butwal'}\n",
      "Sagar\n",
      "{'name': 'Sagar', 'age': 21, 'city': 'Butwal', 'job': 'Hacker'}\n",
      "{'name': 'Sagar', 'age': 22, 'city': 'Butwal', 'job': 'Hacker'}\n",
      "{'name': 'Sagar', 'age': 22, 'city': 'bhairahawa', 'job': 'Hacker'}\n",
      "Sagar\n",
      "22\n",
      "bhairahawa\n",
      "Hacker\n"
     ]
    }
   ],
   "source": [
    "person = {\n",
    "    \"name\": \"Sagar\",\n",
    "    \"age\": 21,\n",
    "    \"city\": \"Butwal\"\n",
    "}\n",
    "\n",
    "print(person)\n",
    "# specific data\n",
    "print(person[\"name\"])\n",
    "# ADD\n",
    "person[\"job\"] = \"Hacker\"\n",
    "print(person)\n",
    "# MODIFY\n",
    "person[\"age\"] = 22\n",
    "print(person)\n",
    "# MODIFY\n",
    "person[\"city\"] = \"bhairahawa\"\n",
    "print(person)\n",
    "# loop\n",
    "for name in person.values():\n",
    "    print(name)\n",
    "\n"
   ]
  },
  {
   "cell_type": "markdown",
   "id": "2ef8e183",
   "metadata": {},
   "source": [
    "student = {\n",
    "    \"name\": \"Sagar\",\n",
    "    \"age\": 20,\n",
    "    \"grade\": \"A\",\n",
    "    \n",
    "}\n",
    "\n",
    "Write Python code to : \n",
    "    - print the value of the \"grade\" key .\n",
    "    - add a new key \"subject\" with the value \"Math\" to the dictionary.\n",
    "    - Update the \"age\" to 21.\n",
    "    - Delete the \"name\" key from the dictionary.\n",
    "    - Print the updated dictionary."
   ]
  },
  {
   "cell_type": "code",
   "execution_count": 5,
   "id": "4e0f7be3",
   "metadata": {},
   "outputs": [
    {
     "name": "stdout",
     "output_type": "stream",
     "text": [
      "A\n",
      "{'name': 'Sagar', 'age': 20, 'grade': 'A', 'subject': 'Math'}\n"
     ]
    }
   ],
   "source": [
    "student = {\n",
    "    \"name\": \"Sagar\",\n",
    "    \"age\": 20,\n",
    "    \"grade\": \"A\",\n",
    "    \n",
    "}\n",
    "print(student[\"grade\"])\n",
    "\n",
    "student[\"subject\"]=\"Math\"\n",
    "print(student)"
   ]
  },
  {
   "cell_type": "code",
   "execution_count": null,
   "id": "6f5ac3eb",
   "metadata": {},
   "outputs": [],
   "source": []
  }
 ],
 "metadata": {
  "kernelspec": {
   "display_name": "Python 3",
   "language": "python",
   "name": "python3"
  },
  "language_info": {
   "codemirror_mode": {
    "name": "ipython",
    "version": 3
   },
   "file_extension": ".py",
   "mimetype": "text/x-python",
   "name": "python",
   "nbconvert_exporter": "python",
   "pygments_lexer": "ipython3",
   "version": "3.12.10"
  }
 },
 "nbformat": 4,
 "nbformat_minor": 5
}
