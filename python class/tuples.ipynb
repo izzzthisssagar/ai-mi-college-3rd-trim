{
 "cells": [
  {
   "cell_type": "markdown",
   "id": "29a11ee0",
   "metadata": {},
   "source": [
    "tuple is a collection of objects separated by commas , object means values or data.\n",
    "characteristics of tuple:\n",
    "1. ordered\n",
    "2. unchangeable/immutable\n",
    "3. allow duplicate values\n",
    "4. indexed\n",
    "5. tuple can contain different data types\n",
    "6. we can store tuple in a list and list can be changed\n"
   ]
  },
  {
   "cell_type": "code",
   "execution_count": null,
   "id": "1ccbd6dc",
   "metadata": {},
   "outputs": [],
   "source": [
    "numbers = (1 , 22 ,45 ,3 ,5, 7, 9, 29)\n",
    "\n",
    "print(numbers[2]) #it shows the index of the element\n",
    "print(numbers[-1]) #it shows the last element of the tuple\n"
   ]
  },
  {
   "cell_type": "code",
   "execution_count": null,
   "id": "080e2325",
   "metadata": {},
   "outputs": [],
   "source": [
    "fruit= [apple , banana, orange, watermelon, grapes]\n",
    "\n",
    "fruit_tuple = tuple(fruit)\n",
    "\n",
    "print(fruit_tuple)\n",
    "\n",
    "\n"
   ]
  },
  {
   "cell_type": "code",
   "execution_count": null,
   "id": "d07afbda",
   "metadata": {},
   "outputs": [
    {
     "name": "stdout",
     "output_type": "stream",
     "text": [
      "0\n",
      "1\n",
      "2\n",
      "3\n",
      "4\n"
     ]
    }
   ],
   "source": [
    "for i in range(5):# range is a function that returns a sequence of numbers, starting from 0 by default, and increments by 1 (by default), and ends at a specified number.\n",
    "    #(5) it is a list of numbers from 0 to 4\n",
    "    print(i)"
   ]
  },
  {
   "cell_type": "code",
   "execution_count": 4,
   "id": "cd3d594f",
   "metadata": {},
   "outputs": [
    {
     "name": "stdout",
     "output_type": "stream",
     "text": [
      "(10, 2, 3)\n"
     ]
    },
    {
     "data": {
      "text/plain": [
       "0"
      ]
     },
     "execution_count": 4,
     "metadata": {},
     "output_type": "execute_result"
    }
   ],
   "source": [
    "number = (1,2,3)\n",
    "\n",
    "numbe_list = list(number)\n",
    "\n",
    "numbe_list[0] = 10\n",
    "\n",
    "number = tuple(numbe_list)\n",
    "\n",
    "print(number)\n",
    "number.count(1)\n",
    "number.index(10,0,3)\n"
   ]
  },
  {
   "cell_type": "markdown",
   "id": "53112098",
   "metadata": {},
   "source": [
    "letters = ['a', 'b', 'c', 'd', 'e', 'f', 'g', 'h', 'i', 'j', 'k', 'l', 'm', 'n', 'o', 'p', 'q', 'r', 's', 't', 'u', 'v', 'w', 'x', 'y', 'z']\n"
   ]
  },
  {
   "cell_type": "markdown",
   "id": "19e29ef8",
   "metadata": {},
   "source": [
    "1. Get the first 4 elements from the list\n",
    " \n"
   ]
  },
  {
   "cell_type": "code",
   "execution_count": null,
   "id": "5675acf2",
   "metadata": {},
   "outputs": [
    {
     "name": "stdout",
     "output_type": "stream",
     "text": [
      "['a', 'b', 'c', 'd']\n",
      "['d', 'e', 'f']\n",
      "['a', 'c', 'e', 'g', 'i', 'k', 'm', 'o', 'q', 's', 'u', 'w', 'y']\n"
     ]
    }
   ],
   "source": [
    "letters=['a','b','c','d','e','f','g','h','i','j','k','l','m','n','o','p','q','r','s','t','u','v','w','x','y','z']\n",
    "print(letters[0:4])\n",
    "\n",
    "print(letters[3:6])\n",
    "\n",
    "print(letters[::2])\n",
    "\n",
    "print(letters[::3])\n",
    "\n",
    "\n",
    "\n"
   ]
  }
 ],
 "metadata": {
  "kernelspec": {
   "display_name": "Python 3",
   "language": "python",
   "name": "python3"
  },
  "language_info": {
   "codemirror_mode": {
    "name": "ipython",
    "version": 3
   },
   "file_extension": ".py",
   "mimetype": "text/x-python",
   "name": "python",
   "nbconvert_exporter": "python",
   "pygments_lexer": "ipython3",
   "version": "3.12.10"
  }
 },
 "nbformat": 4,
 "nbformat_minor": 5
}
