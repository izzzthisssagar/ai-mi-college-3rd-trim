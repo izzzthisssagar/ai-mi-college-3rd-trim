{
 "cells": [
  {
   "cell_type": "markdown",
   "id": "c8be8e41",
   "metadata": {},
   "source": [
    "if <condition>:\n",
    "    <code>\n",
    "elif <condition>:\n",
    "    <code>\n",
    "else:\n",
    "    <code>\n",
    "\n",
    "What is intendation?\n",
    "Intendation is used to define the block of code.\n",
    "intendation is very important in python, in other language it is not required.\n",
    "if 10>5:\n",
    "    print(\"10 is greater than 5\")\n",
    "else:\n",
    "    print(\"10 is not greater than 5\")"
   ]
  },
  {
   "cell_type": "code",
   "execution_count": 8,
   "id": "34d6f6b5",
   "metadata": {},
   "outputs": [
    {
     "name": "stdout",
     "output_type": "stream",
     "text": [
      "55 is a positive number\n"
     ]
    }
   ],
   "source": [
    "number=int(input(\"enter a number\"))\n",
    "\n",
    "if number > 0:\n",
    "    print(f\"{number} is a positive number\")\n",
    "    \n",
    "elif number == 0:\n",
    "    print(f\"{number} is zero\")\n",
    "\n",
    "else:\n",
    "    print(f\"{number} is a negative number\")"
   ]
  },
  {
   "cell_type": "code",
   "execution_count": 9,
   "id": "cb4e61a9",
   "metadata": {},
   "outputs": [
    {
     "name": "stdout",
     "output_type": "stream",
     "text": [
      "You marks is non graded because you got less than 65 marks\n"
     ]
    }
   ],
   "source": [
    "obtain_marks = int(input(\"Enter your marks: \"))\n",
    "\n",
    "if obtain_marks > 90:\n",
    "    print(f\"You got A grade and the marks is {obtain_marks}\")\n",
    "elif obtain_marks >= 75:\n",
    "    print(f\"You got B grade and the marks is {obtain_marks}\")\n",
    "elif obtain_marks > 65:\n",
    "    print(f\"You got C grade and the marks is {obtain_marks}\")\n",
    "else:\n",
    "    print(\"You marks is non graded because you got less than 65 marks\")"
   ]
  },
  {
   "cell_type": "code",
   "execution_count": 10,
   "id": "603050d7",
   "metadata": {},
   "outputs": [
    {
     "name": "stdout",
     "output_type": "stream",
     "text": [
      "All numbers are equal or there is no largest number\n"
     ]
    }
   ],
   "source": [
    "num1 = int(input(\"Enter a number1: \"))\n",
    "num2 = int(input(\"Enter a number2: \"))\n",
    "num3 = int(input(\"Enter a number3: \"))\n",
    "\n",
    "if num1 > num2  and num1 > num3:\n",
    "    print(f\"{num1} is the largest number\")\n",
    "elif num2 > num1 and num2 > num3:\n",
    "    print(f\"{num2} is the largest number\")\n",
    "elif num3 > num1 and num3 > num2:\n",
    "    print(f\"{num3} is the largest number\")\n",
    "else:\n",
    "    print(\"All numbers are equal or there is no largest number\")\n",
    "\n"
   ]
  },
  {
   "cell_type": "code",
   "execution_count": 11,
   "id": "9c0c1312",
   "metadata": {},
   "outputs": [
    {
     "name": "stdout",
     "output_type": "stream",
     "text": [
      "Welcome to the ticket booking system\n",
      "Please enter your age to determine the ticket price\n",
      "You're age is 23, so you need to pay 200\n",
      "Enjoy your trip! Remember to keep your ticket safe.\n"
     ]
    }
   ],
   "source": [
    "print(\"Welcome to the ticket booking system\")\n",
    "print(\"Please enter your age to determine the ticket price\")\n",
    "\n",
    "passenger_age = int(input(\"Enter your age: \"))\n",
    "if passenger_age < 5:\n",
    "    print(f\"You\\'re age is {passenger_age}, so you can travel free.\")\n",
    "    print(\"Enjoy your trip! Remember to keep your ticket safe.\")\n",
    "elif passenger_age >= 5 and passenger_age <= 18:\n",
    "    print(f\"You\\'re age is {passenger_age}, so you need to pay 100\")\n",
    "    print(\"Enjoy your trip! Remember to keep your ticket safe.\")\n",
    "elif passenger_age > 18 and passenger_age <= 40:\n",
    "    print(f\"You\\'re age is {passenger_age}, so you need to pay 200\")\n",
    "    print(\"Enjoy your trip! Remember to keep your ticket safe.\")\n",
    "elif passenger_age > 40 and passenger_age <= 60:\n",
    "    print(f\"You\\'re age is {passenger_age}, so you need to pay 250\")\n",
    "    print(\"Enjoy your trip! Remember to keep your ticket safe.\")\n",
    "else:\n",
    "    print(\"You\\'re age is {passenger_age}, so you can travel free.\")  # Assuming senior citizens travel for free\n",
    "    print(\"Enjoy your trip! Remember to keep your ticket safe.\")\n",
    "\n",
    "\n"
   ]
  },
  {
   "cell_type": "code",
   "execution_count": null,
   "id": "b3797b26",
   "metadata": {},
   "outputs": [],
   "source": []
  }
 ],
 "metadata": {
  "kernelspec": {
   "display_name": "Python 3",
   "language": "python",
   "name": "python3"
  },
  "language_info": {
   "codemirror_mode": {
    "name": "ipython",
    "version": 3
   },
   "file_extension": ".py",
   "mimetype": "text/x-python",
   "name": "python",
   "nbconvert_exporter": "python",
   "pygments_lexer": "ipython3",
   "version": "3.12.10"
  }
 },
 "nbformat": 4,
 "nbformat_minor": 5
}
