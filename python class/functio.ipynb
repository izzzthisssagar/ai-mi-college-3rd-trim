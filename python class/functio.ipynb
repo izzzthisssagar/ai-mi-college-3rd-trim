{
 "cells": [
  {
   "cell_type": "markdown",
   "id": "c3b25e29",
   "metadata": {},
   "source": [
    "functions : perform specific task \n",
    "\n",
    "why we need function :\n",
    "1. reusability \n",
    "2. modularity means maintainability\n",
    "3. readability/simplifyness \n",
    "4. debugging \n",
    "\n",
    "\n",
    "syntax: \n",
    "def function_name( parameters /arguments):\n",
    "    # body of function\n",
    "    # return value \n",
    "\n",
    "\n",
    "we need t call function to execute it\n",
    "syntax to call it :\n",
    "function_name( ) \n",
    "\n",
    "\n",
    "-actual value are called arguments\n",
    "-formal value are called parameters"
   ]
  },
  {
   "cell_type": "code",
   "execution_count": null,
   "id": "5b48c374",
   "metadata": {},
   "outputs": [],
   "source": [
    "#function name : greet\n",
    "#function parameters : no parameters\n",
    "#function return type : no return type\n",
    "#function body : print(\"hellow namaste\")\n",
    "\n",
    "def greet():\n",
    " print(\"hello namaste!!\")\n",
    "\n",
    "\n",
    "#function call\n",
    "greet()\n",
    "\n",
    "#function name : greet\n",
    "#function parameters : name\n",
    "#function return type : no return type\n",
    "#function body : print(\"hellow name, namaste!!\")\n",
    "\n",
    "def greet(name):\n",
    " print(f\"hellow {name}, namaste!!\")\n",
    "\n",
    "#function call\n",
    "greet(\"Jhon\")\n",
    "\n",
    "\n",
    "names =[\"Ram\"] * 50 \n",
    "for name in names:\n",
    " greet(name)#function call\n",
    "\n",
    "\n",
    "\n"
   ]
  },
  {
   "cell_type": "code",
   "execution_count": null,
   "id": "8dac1047",
   "metadata": {},
   "outputs": [],
   "source": [
    "numbers = [1,2,3,4,5,6,7,8,9,10]\n",
    "square_numbers = []\n",
    "\n",
    "def square(number):\n",
    "    return number*number\n",
    "\n",
    "for number in numbers:\n",
    "  squared_num=square(number)\n",
    "  square_numbers.append(squared_num)\n",
    "print(square_numbers)\n",
    "    "
   ]
  },
  {
   "cell_type": "markdown",
   "id": "c8245bff",
   "metadata": {},
   "source": [
    "lambda function : it is a single line function\n",
    "# lambda function\n",
    "# function name = lambda <parameters>: <body> (syntax)"
   ]
  },
  {
   "cell_type": "code",
   "execution_count": null,
   "id": "94b50709",
   "metadata": {},
   "outputs": [],
   "source": [
    "#python lambda function\n",
    "\n",
    "greet = lambda  : print(\"hello namaste!!!\")\n",
    "greet()"
   ]
  },
  {
   "cell_type": "code",
   "execution_count": null,
   "id": "6fcf387b",
   "metadata": {},
   "outputs": [],
   "source": [
    "#python lambda function\n",
    "\n",
    "greet = lambda name : print(f\"hello {name}, namaste!!!\")\n",
    "greet(\"sagar\")\n",
    "\n",
    "number= [1,2,3,4,5,6,7,8,9,10]\n",
    "squared_num = []\n",
    "\n",
    "square_numbers = lambda number: number**2\n",
    "for num in number:\n",
    "    squared_num.append(square_numbers(num))\n",
    "print(squared_num)\n",
    "\n",
    "\n",
    "square = lambda num : num**2\n",
    "print(square(5))\n"
   ]
  },
  {
   "cell_type": "markdown",
   "id": "14163919",
   "metadata": {},
   "source": [
    "#1. input list of 10 numbers from user\n",
    "#2. check if num is odd or even using normal function\n",
    "#3. find the sum of odd num and even number seperatly using lamda\n",
    "#4.print out the total odd and even sum "
   ]
  },
  {
   "cell_type": "code",
   "execution_count": 3,
   "id": "fd30531a",
   "metadata": {},
   "outputs": [
    {
     "name": "stdout",
     "output_type": "stream",
     "text": [
      "[2, 4, 6, 8, 10] is even numbers\n",
      "[1, 3, 5, 7, 9] is odd numbers\n",
      "30 is sum of even numbers\n",
      "25 is sum of odd numbers\n",
      "55 is total sum\n"
     ]
    }
   ],
   "source": [
    "Numbers = []\n",
    "\n",
    "for i in range(10):\n",
    "    input_number = int(input(f\"Enter a number{i+1}: \"))\n",
    "    Numbers.append(input_number)\n",
    "\n",
    "def even_numbers(numbers):\n",
    "    even_numbers = []\n",
    "    for i in numbers:\n",
    "        if i % 2 == 0:\n",
    "            even_numbers.append(i)\n",
    "    return even_numbers\n",
    "print(f\"{even_numbers(Numbers)} is even numbers\")\n",
    "\n",
    "def odd_numbers(numbers):\n",
    "    odd_numbers = []\n",
    "    for i in numbers:\n",
    "        if i % 2 != 0:\n",
    "            odd_numbers.append(i)\n",
    "    return odd_numbers\n",
    "print(f\"{odd_numbers(Numbers)} is odd numbers\")\n",
    "\n",
    "\n",
    "sum_of_even_numbers = lambda numbers: sum(even_numbers(numbers))\n",
    "print(f\"{sum_of_even_numbers(Numbers)} is sum of even numbers\")\n",
    "    \n",
    "sum_of_odd_numbers = lambda numbers: sum(odd_numbers(numbers))\n",
    "print(f\"{sum_of_odd_numbers(Numbers)} is sum of odd numbers\")\n",
    "\n",
    "\n",
    "total_sum = lambda numbers: sum(numbers)\n",
    "print(f\"{total_sum(Numbers)} is total sum\")"
   ]
  }
 ],
 "metadata": {
  "kernelspec": {
   "display_name": "Python 3",
   "language": "python",
   "name": "python3"
  },
  "language_info": {
   "codemirror_mode": {
    "name": "ipython",
    "version": 3
   },
   "file_extension": ".py",
   "mimetype": "text/x-python",
   "name": "python",
   "nbconvert_exporter": "python",
   "pygments_lexer": "ipython3",
   "version": "3.12.10"
  }
 },
 "nbformat": 4,
 "nbformat_minor": 5
}
