{
 "cells": [
  {
   "cell_type": "markdown",
   "id": "d32a2fd2",
   "metadata": {},
   "source": [
    "This is a simple example of a print statement in Python."
   ]
  },
  {
   "cell_type": "code",
   "execution_count": 3,
   "id": "ac2f3b54",
   "metadata": {},
   "outputs": [
    {
     "name": "stdout",
     "output_type": "stream",
     "text": [
      "hello world\n"
     ]
    }
   ],
   "source": [
    "print(\"hello world\")\n",
    "# This is a simple example of a variable in Python."
   ]
  },
  {
   "cell_type": "markdown",
   "id": "d230d3be",
   "metadata": {},
   "source": [
    "learninng variables\n"
   ]
  },
  {
   "cell_type": "code",
   "execution_count": 1,
   "id": "564e2eda",
   "metadata": {},
   "outputs": [
    {
     "ename": "TypeError",
     "evalue": "unsupported operand type(s) for +: 'int' and 'str'",
     "output_type": "error",
     "traceback": [
      "\u001b[31m---------------------------------------------------------------------------\u001b[39m",
      "\u001b[31mTypeError\u001b[39m                                 Traceback (most recent call last)",
      "\u001b[36mCell\u001b[39m\u001b[36m \u001b[39m\u001b[32mIn[1]\u001b[39m\u001b[32m, line 3\u001b[39m\n\u001b[32m      1\u001b[39m a =\u001b[32m5\u001b[39m \u001b[38;5;66;03m# Here, 'a' is a variable that stores the integer value 5.\u001b[39;00m\n\u001b[32m----> \u001b[39m\u001b[32m3\u001b[39m a= \u001b[32;43m5\u001b[39;49m\u001b[43m \u001b[49m\u001b[43m+\u001b[49m\u001b[43m \u001b[49m\u001b[33;43m\"\u001b[39;49m\u001b[33;43m5\u001b[39;49m\u001b[33;43m\"\u001b[39;49m \u001b[38;5;66;03m# This line will cause an error because you cannot add an integer and a string directly.\u001b[39;00m\n\u001b[32m      5\u001b[39m \u001b[38;5;28mprint\u001b[39m(a) \u001b[38;5;66;03m# This will print the value of 'a', but the previous line will not execute due to the error.\u001b[39;00m\n",
      "\u001b[31mTypeError\u001b[39m: unsupported operand type(s) for +: 'int' and 'str'"
     ]
    }
   ],
   "source": [
    "a =5 # Here, 'a' is a variable that stores the integer value 5.\n",
    "\n",
    "a= 5 + \"5\" # This line will cause an error because you cannot add an integer and a string directly.\n",
    "\n",
    "print(a) # This will print the value of 'a', but the previous line will not execute due to the error."
   ]
  },
  {
   "cell_type": "code",
   "execution_count": null,
   "id": "a78ba600",
   "metadata": {},
   "outputs": [
    {
     "name": "stdout",
     "output_type": "stream",
     "text": [
      " My name is sagar and I am 23 years old.\n"
     ]
    }
   ],
   "source": [
    "name = \"sagar\" # This is a string variable that stores the name \"sagar\".\n",
    "age = 23 # This is an integer variable that stores the age 23.\n",
    "print(f\" My name is {name} and I am {age} years old.\") # This will print the name and age using an f-string for formatting.\n",
    "#f-string is a way to embed expressions inside string literals, using curly braces {}.\n",
    "# The expressions are replaced with their values when the string is printed.\n",
    "# This is a common way to format strings in Python.\n",
    "# You can also use the % operator to embed expressions inside string literals, like this:\n",
    "# print(\"My name is %s and I am %d years old.\" % (name, age))\n",
    "# This will also print the name and age using an old-style formatting.\n",
    "# However, it is not recommended to use the % operator for formatting strings in Python, as it is not very readable and can lead to errors.\n",
    "\n",
    "\n",
    "print(\"My name is {} and I am {} years old .\".format(\"sagar\",23))"
   ]
  },
  {
   "cell_type": "code",
   "execution_count": 4,
   "id": "bf87c4ca",
   "metadata": {},
   "outputs": [
    {
     "name": "stdout",
     "output_type": "stream",
     "text": [
      "My name is sagar and i am 23 years old.\n"
     ]
    }
   ],
   "source": [
    "print(\"My name is {name} and i am {age} years old.\".format(age=23,name=\"sagar\")) # This will also print the name and age using the format() method.\n",
    "# The format() method is a way to format strings in Python, similar to f-strings"
   ]
  },
  {
   "cell_type": "code",
   "execution_count": 5,
   "id": "5bd79166",
   "metadata": {},
   "outputs": [
    {
     "ename": "SyntaxError",
     "evalue": "invalid syntax. Perhaps you forgot a comma? (3062736313.py, line 1)",
     "output_type": "error",
     "traceback": [
      "  \u001b[36mCell\u001b[39m\u001b[36m \u001b[39m\u001b[32mIn[5]\u001b[39m\u001b[32m, line 1\u001b[39m\n\u001b[31m    \u001b[39m\u001b[31mprint('I don't like \"python\"') # This will print the string with single quotes and double quotes inside it.')\u001b[39m\n          ^\n\u001b[31mSyntaxError\u001b[39m\u001b[31m:\u001b[39m invalid syntax. Perhaps you forgot a comma?\n"
     ]
    }
   ],
   "source": [
    "print('I don't like \"python\"') # This will print the string with single quotes and double quotes inside it.')\n",
    "# You can use single quotes or double quotes to define strings in Python, as long as you use the same type of quotes to start and end the string.\n"
   ]
  },
  {
   "cell_type": "code",
   "execution_count": 6,
   "id": "af96c426",
   "metadata": {},
   "outputs": [
    {
     "name": "stdout",
     "output_type": "stream",
     "text": [
      " I don't like \"python\"\n"
     ]
    }
   ],
   "source": [
    "print(' I don\\'t like \"python\"') # This will also print the string with single quotes and double quotes inside it, using an escape character (\\) to avoid syntax errors.\n"
   ]
  },
  {
   "cell_type": "code",
   "execution_count": null,
   "id": "95849622",
   "metadata": {},
   "outputs": [
    {
     "name": "stdout",
     "output_type": "stream",
     "text": [
      "happy new year--2025!let's party \n",
      "My name is sagar thapa,from murgiya!"
     ]
    }
   ],
   "source": [
    "print(\"happy new year\",\"2025\",sep=\"--\",end=\"!\") # This will print the string with a custom separator (*) and end character (!).\n",
    "# The sep parameter specifies the string to be inserted between the values, and the end parameter specifies\n",
    "print(\"let\\'s party \")\n",
    "\n",
    "print(\"My name is sagar thapa\",\"from murgiya\",sep=\",\",end=\"!\") # This will print the string with a custom separator (,) and end character (!).\n",
    "# You can use the sep and end parameters to customize the output format of the print() function\n",
    "# The sep parameter specifies the string to be inserted between the values, and the end parameter specifies the string to be printed at the end of the output.\n",
    "# By default, the sep parameter is a space and the end parameter is a newline character (\\n)."
   ]
  },
  {
   "cell_type": "code",
   "execution_count": 4,
   "id": "9457883c",
   "metadata": {},
   "outputs": [
    {
     "name": "stdout",
     "output_type": "stream",
     "text": [
      "Hello, 5!\n",
      "The sum of 5 and 5 is 10.\n",
      "The concatenation of 5 and 5 is 55.\n"
     ]
    }
   ],
   "source": [
    "name = input(\"Enter your name: \") # This will prompt the user to enter their name and store it in the variable 'name'.\n",
    "print(f\"Hello, {name}!\") # This will print a greeting message using the name entered by the user.\n",
    "\n",
    "\n",
    "first_number = int(input(\"Enter the first number: \")) # This will prompt the user to enter the first number and store it in the variable 'first_number'.\n",
    "second_number = int(input(\"Enter the second number: \")) # This will prompt the user to enter the second number and store it in the variable 'second_number'.\n",
    "\n",
    "\n",
    "#implicit type conversion (when you add two numbers, Python automatically converts them to the same type if they are different types)\n",
    "result = first_number + second_number # This will add the two numbers and store the result in the variable 'result'.\n",
    "print(f\"The sum of {first_number} and {second_number} is {result}.\") # This will print the sum of the two numbers.\n",
    "\n",
    "#explicit type conversion (when you want to convert a value from one type to another, you can use the int(), float(), str() functions)\n",
    "result = str(first_number) + str(second_number) # This will convert the two numbers to strings and concatenate them.\n",
    "print(f\"The concatenation of {first_number} and {second_number} is {result}.\") # This will print the concatenation of the two numbers as strings.\n",
    "# This is an example of explicit type conversion, where we convert the integers to strings before concaten"
   ]
  },
  {
   "cell_type": "markdown",
   "id": "b8e61d97",
   "metadata": {},
   "source": [
    "typecasting type -implicit,-explicit\n",
    "#implicit\n",
    "a = 10\n",
    "b = 20.5\n",
    "c = a+b\n",
    "print(c)\n",
    "print(type(c))\n",
    "#explicit\n",
    "a = 10\n",
    "b = 20.5\n",
    "c = float(a)\n",
    "print(c)\n",
    "print(type(c))\n",
    "#typecasting - explicit\n",
    "a = 10\n",
    "b = 20.5\n",
    "c = str(a)\n",
    "print(c)\n",
    "print(type(c))\n",
    "#typecasting - implicit\n",
    "a = 10\n",
    "b = 20.5\n",
    "c = a+b\n",
    "print(c)\n",
    "print(type(c))\n",
    "#typecasting -"
   ]
  }
 ],
 "metadata": {
  "kernelspec": {
   "display_name": "Python 3",
   "language": "python",
   "name": "python3"
  },
  "language_info": {
   "codemirror_mode": {
    "name": "ipython",
    "version": 3
   },
   "file_extension": ".py",
   "mimetype": "text/x-python",
   "name": "python",
   "nbconvert_exporter": "python",
   "pygments_lexer": "ipython3",
   "version": "3.12.10"
  }
 },
 "nbformat": 4,
 "nbformat_minor": 5
}
