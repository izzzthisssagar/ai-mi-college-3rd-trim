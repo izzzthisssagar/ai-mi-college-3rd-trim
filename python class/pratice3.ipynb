{
 "cells": [
  {
   "cell_type": "markdown",
   "id": "047d1ef3",
   "metadata": {},
   "source": [
    "Showing menu options of a to-list program...\n",
    "1.Add a task\n",
    "2.Remove a task\n",
    "3.View all tasks\n",
    "4.Exit"
   ]
  },
  {
   "cell_type": "code",
   "execution_count": 12,
   "id": "1afb6a09",
   "metadata": {},
   "outputs": [
    {
     "name": "stdout",
     "output_type": "stream",
     "text": [
      "Welcome to the task management system\n",
      "Showing menu \n",
      "1. Add a task \n",
      "2. View tasks \n",
      "3. Remove a task by number \n",
      "4. Exit \n",
      "\n",
      "You have chosen option 4\n",
      "Exit\n",
      "Thank you for using the task management system\n"
     ]
    }
   ],
   "source": [
    "listOfTask =[]\n",
    "print(\"Welcome to the task management system\")\n",
    "while True:\n",
    "    print(\"Showing menu \\n1. Add a task \\n2. View tasks \\n3. Remove a task by number \\n4. Exit \\n\")\n",
    "    choice_input = input(\"Enter your choice: \")\n",
    "    if not choice_input.isdigit():\n",
    "        print(\"Invalid input. Please enter a number between 1 and 4.\")\n",
    "        continue\n",
    "    iChoice = int(choice_input)\n",
    "    print(f\"You have chosen option {iChoice}\")\n",
    "    if iChoice == 1:\n",
    "        print(\"Adding  a task\")\n",
    "        task = input(\"Enter a task: \")\n",
    "        listOfTask.append(task)\n",
    "        print(listOfTask)\n",
    "        print(\"Task added successfully\\n\")\n",
    "    elif iChoice == 2:\n",
    "        print(\"Viewing all tasks\")\n",
    "        for i in range(len(listOfTask)):\n",
    "            print(f\"{i+1}. {listOfTask[i]}\")\n",
    "        \n",
    "    elif iChoice == 3:\n",
    "        print(\"Removing a task by number\")\n",
    "       \n",
    "        for i in range(len(listOfTask)):\n",
    "            print(f\"{i+1}. {listOfTask[i]}\")\n",
    "        taskNumber = int(input(\"Enter the number of the task to remove: \"))\n",
    "        listOfTask.pop(taskNumber-1)# index -1 is the last element and pop removes the last element\n",
    "        print(\"Task removed successfully\")\n",
    "        print(\"Updated list of tasks: \")\n",
    "        for i in range(len(listOfTask)):\n",
    "            print(f\"{i+1}. {listOfTask[i]}\")\n",
    "    elif iChoice == 4:\n",
    "        print(\"Exit\")\n",
    "        break\n",
    "        \n",
    "    else:\n",
    "        print(\"Invalid choice\")\n",
    "        print(\"Renter the choice between 1 to 4\")\n",
    "        break\n",
    "       \n",
    "print(\"Thank you for using the task management system\")"
   ]
  },
  {
   "cell_type": "code",
   "execution_count": null,
   "id": "b9c04600",
   "metadata": {},
   "outputs": [
    {
     "name": "stdout",
     "output_type": "stream",
     "text": [
      "Welcome to the Topper Finder System\n",
      "1.hari  got 60 marks\n",
      "2.shyam got 52 marks\n",
      "3.sita got 99 marks\n",
      "--------------------------------\n",
      "Topper Finder System\n",
      "sita got 99 marks\n"
     ]
    }
   ],
   "source": [
    "\n",
    "print(\"Welcome to the Topper Finder System\")\n",
    "\n",
    "Number_of_students= int(input(\"Number of students marks you want to enter:\"))\n",
    "student_name_list=[]\n",
    "student_marks_list=[]\n",
    "for i in range(Number_of_students):\n",
    "    student_name=input(\"Enter the name of the student:\")\n",
    "    #CHECK WHEATHER THE NAME IS EMPTY OR NULL \n",
    "    if student_name == \"\":\n",
    "        print(\"Name cannot be empty\")\n",
    "        continue   \n",
    "    student_name_list.append(student_name)\n",
    "    student_marks=int(input(\"Enter the marks of the student:\"))\n",
    "    if student_marks < 0 or student_marks > 100:\n",
    "        print(\"Invalid marks\")\n",
    "        continue\n",
    "    else:\n",
    "      student_marks_list.append(student_marks)\n",
    "\n",
    "print(f\"{i+1}.{student_name} got {student_marks} marks\")\n",
    "\n",
    "\n",
    "\n",
    "print(\"--------------------------------\")\n",
    "print(\"Topper Finder System\")\n",
    "#find maximum number in this and print the index number with same name list and marks list\n",
    "topper_index=student_marks_list.index(max(student_marks_list))\n",
    "print(f\"{student_name_list[topper_index]} got {student_marks_list[topper_index]} marks\")\n",
    "\n",
    "\n"
   ]
  },
  {
   "cell_type": "code",
   "execution_count": null,
   "id": "ce93898d",
   "metadata": {},
   "outputs": [
    {
     "name": "stdout",
     "output_type": "stream",
     "text": [
      "Welcome to the shopping basket billing\n",
      "Item1 : oil\n",
      "Price of item1 : 200\n",
      "Item2 : meat\n",
      "Price of item2 : 400\n",
      "Discount is 0RS\n",
      "Total price is 600Rs\n",
      "billing is ready\n",
      "Thank you for shopping\n"
     ]
    }
   ],
   "source": [
    "print(\"Welcome to the shopping basket billing\")\n",
    "\n",
    "Number_of_items = int(input(\"Enter the number of items: \"))\n",
    "\n",
    "Name_of_items = []\n",
    "Price_of_items = []\n",
    "\n",
    "for i in range(Number_of_items):\n",
    " items_name=input(\"Enter the name of items: \")\n",
    " print(f\"Item{i+1} : {items_name}\")\n",
    " Name_of_items.append(items_name)\n",
    " items_price=int(input(\"Enter the price of items: \"))\n",
    " print(f\"Price of item{i+1} : Rs{items_price}\")\n",
    " Price_of_items.append(items_price)\n",
    "\n",
    "Total_price=sum(Price_of_items)\n",
    "if Total_price>1000:\n",
    " Discount=10*Total_price/100\n",
    " print(f\"Discount is {Discount}Rs\")\n",
    "else:\n",
    " Discount=0\n",
    "print(f\"Discount is {Discount}RS\")\n",
    "Total_price=Total_price-Discount\n",
    "print(f\"Total price is {Total_price}Rs\")\n",
    "     \n",
    "print(\"billing is ready\")\n",
    "print(\"Thank you for shopping\")\n",
    "\n"
   ]
  },
  {
   "cell_type": "code",
   "execution_count": 10,
   "id": "73cd1acc",
   "metadata": {},
   "outputs": [
    {
     "name": "stdout",
     "output_type": "stream",
     "text": [
      "Welcome to the bus ticket booking system\n",
      "1 : Available\n",
      "2 : Available\n",
      "3 : Available\n",
      "4 : Available\n",
      "5 : Available\n",
      "6 : Available\n",
      "7 : Available\n",
      "8 : Available\n",
      "9 : Available\n",
      "10 : Available\n",
      "This seat is already booked. Please choose another seat.\n",
      "You have booked the following seats: [1]\n",
      "Seat number [1] are reserved.\n",
      "Thank you for booking with us.\n"
     ]
    }
   ],
   "source": [
    "print(\"Welcome to the bus ticket booking system\")\n",
    "\n",
    "Bus_Seats_Number = [1,2,3,4,5,6,7,8,9,10]\n",
    "choice_seats = []\n",
    "while True:\n",
    " for i in range(len(Bus_Seats_Number)):\n",
    "    print(f\"{Bus_Seats_Number[i]} : Available\") \n",
    " seats = int(input(\"Enter the number of seats you want to book:\"))\n",
    " for i in range(seats):\n",
    "    \n",
    "    seat = int(input(\"Enter the seat number you want to book:\"))\n",
    "    if seat > 10:\n",
    "        print(\"Invalid seat number. Please choose a seat number between 1 and 10.\")\n",
    "        continue\n",
    "    elif choice_seats.count(seat) > 0:\n",
    "        print(\"This seat is already booked. Please choose another seat.\")\n",
    "        continue\n",
    "    choice_seats.append(seat)\n",
    " print(\"You have booked the following seats:\", choice_seats)\n",
    " print(f\"Seat number {choice_seats} are reserved.\")\n",
    " break\n",
    "\n",
    "\n",
    "print(\"Thank you for booking with us.\")\n"
   ]
  },
  {
   "cell_type": "code",
   "execution_count": 11,
   "id": "91854971",
   "metadata": {},
   "outputs": [
    {
     "name": "stdout",
     "output_type": "stream",
     "text": [
      "The list is:  [1, 2, 3, 2, 1]\n",
      "The list is palindrome\n",
      "origial list: [1, 2, 3, 2, 1]\n",
      "reversed list: [1, 2, 3, 2, 1]\n"
     ]
    }
   ],
   "source": [
    "number = []\n",
    "user_input = int(input(\"Enter the number of elements in the list: \"))\n",
    "for i in range(user_input):\n",
    "    num = int(input(f\"Enter number {i+1}: \"))\n",
    "    number.append(num)\n",
    "print(\"The list is: \", number)\n",
    "\n",
    "reversed_numbers=number[::-1]\n",
    "\n",
    "if number == reversed_numbers:\n",
    " print(\"The list is palindrome\")\n",
    " print(f\"origial list: {number}\")\n",
    " print(f\"reversed list: {reversed_numbers}\")\n",
    "\n",
    "   \n",
    "else:\n",
    "    print(\"The list is not palindrome\")\n",
    "\n"
   ]
  }
 ],
 "metadata": {
  "kernelspec": {
   "display_name": "Python 3",
   "language": "python",
   "name": "python3"
  },
  "language_info": {
   "codemirror_mode": {
    "name": "ipython",
    "version": 3
   },
   "file_extension": ".py",
   "mimetype": "text/x-python",
   "name": "python",
   "nbconvert_exporter": "python",
   "pygments_lexer": "ipython3",
   "version": "3.12.10"
  }
 },
 "nbformat": 4,
 "nbformat_minor": 5
}
