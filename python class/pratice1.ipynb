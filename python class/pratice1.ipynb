{
 "cells": [
  {
   "cell_type": "code",
   "execution_count": null,
   "id": "07f8ee96",
   "metadata": {},
   "outputs": [
    {
     "name": "stdout",
     "output_type": "stream",
     "text": [
      "Incorrect password. You have 2 attempts left.\n",
      "Incorrect password. You have 1 attempts left.\n",
      "Incorrect password. You have 0 attempts left.\n",
      "Too many failed attempts. Access denied.\n"
     ]
    }
   ],
   "source": [
    "#simulate a login system using python where the user has only 3 attempts to enter the correct password ,use thw while loop with break if the correct password is entered\n",
    "\n",
    "\n",
    "correct_password = \"password123\"\n",
    "attempts = 0\n",
    "max_attempts = 3\n",
    "\n",
    "while attempts < max_attempts:\n",
    "        password = input(\"Enter your password: \")\n",
    "        if password == correct_password:\n",
    "            print(\"Login successful!\")\n",
    "            break\n",
    "        else:\n",
    "            attempts += 1\n",
    "            print(f\"Incorrect password. You have {max_attempts - attempts} attempts left.\")\n",
    "\n",
    "if attempts == max_attempts:\n",
    "        print(\"Too many failed attempts. Access denied.\")"
   ]
  }
 ],
 "metadata": {
  "kernelspec": {
   "display_name": "Python 3",
   "language": "python",
   "name": "python3"
  },
  "language_info": {
   "codemirror_mode": {
    "name": "ipython",
    "version": 3
   },
   "file_extension": ".py",
   "mimetype": "text/x-python",
   "name": "python",
   "nbconvert_exporter": "python",
   "pygments_lexer": "ipython3",
   "version": "3.12.10"
  }
 },
 "nbformat": 4,
 "nbformat_minor": 5
}
