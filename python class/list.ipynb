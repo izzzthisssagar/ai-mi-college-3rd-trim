{
 "cells": [
  {
   "cell_type": "markdown",
   "id": "2a5dd9f2",
   "metadata": {},
   "source": [
    "list is the collection of data items. \n",
    "list is a collection which is ordered and changeable. Allows duplicate members.\n",
    "Properties of list:\n",
    "1. ordered\n",
    "2. changeable/mutable\n",
    "3. allow duplicate members\n",
    "4. (indexed)(list index start from 0)(while reverse indexing start from -1)\n",
    "5. list can be created using square brackets[]\n",
    "6. it contains multiple data types\n"
   ]
  },
  {
   "cell_type": "code",
   "execution_count": null,
   "id": "b45ef911",
   "metadata": {},
   "outputs": [],
   "source": [
    "letters=['a','b','c','d','e','f','g','h']\n",
    "print(letters[:4])\n",
    "print(letters[3:7])\n",
    "print(letters[3:6])\n",
    "print(letters[:-2:])\n",
    "print(letters[::2])\n",
    "print(letters[1::3])\n",
    "print(letters[-3:])\n",
    "print(letters[-4:1:-1])\n",
    "print(letters[::-1])\n",
    "print(letters[::-2])\n",
    "print(letters[-2:2:-1])"
   ]
  },
  {
   "cell_type": "code",
   "execution_count": null,
   "id": "ce006ed1",
   "metadata": {},
   "outputs": [],
   "source": [
    "age = [34, 23, 45, 67, 89, 12, 56, 78, 90, 11]\n",
    "# This script calculates the average age from a list of ages\n",
    "print(age)\n",
    "# print the average age\n",
    "\n",
    "empty_list = []\n",
    "print(empty_list)\n",
    "# print an empty list\n",
    "# print the length of the list\n",
    "\n"
   ]
  },
  {
   "cell_type": "code",
   "execution_count": 2,
   "id": "26d33790",
   "metadata": {},
   "outputs": [
    {
     "name": "stdout",
     "output_type": "stream",
     "text": [
      "3\n"
     ]
    }
   ],
   "source": [
    "test = [1, 2, 3, 4, 5 , \"test1\", \"test2\" , \"test3\"]\n",
    "print(test[2])"
   ]
  },
  {
   "cell_type": "code",
   "execution_count": 7,
   "id": "fb73196a",
   "metadata": {},
   "outputs": [
    {
     "name": "stdout",
     "output_type": "stream",
     "text": [
      "javascript\n",
      "['python', 'java', 'c++', 'javascript']\n",
      "['java', 'c++', 'javascript']\n",
      "['java', 'c++', 'javascript', 'ruby', 'php']\n",
      "['python', 'java', 'c++', 'javascript']\n",
      "['python', 'java', 'c++', 'javascript', 'ruby', 'php']\n",
      "['python', 'c++', 'ruby']\n",
      "['php', 'ruby', 'javascript', 'c++', 'java', 'python']\n",
      "['php', 'ruby', 'javascript']\n",
      "['c++', 'javascript', 'ruby']\n",
      "[]\n",
      "['java', 'javascript', 'php']\n",
      "['python', 'javascript']\n",
      "['java', 'javascript']\n"
     ]
    }
   ],
   "source": [
    "languages = [\"python\", \"java\", \"c++\", \"javascript\", \"ruby\"  , \"php\"]\n",
    "print(languages[-3])  # Accessing the third last element\n",
    "#slicing of list means getting a part of the list\n",
    "print(languages[0:4])  # Slicing from index 1 to 3\n",
    "# Slicing in Python allows you to access a range of elements in a list\n",
    "# The syntax for slicing is list[start:end:step]\n",
    "# start index is inclusive and end index is exclusive\n",
    "# step is the number of elements to skip between the selected elements\n",
    "#end index is exclusive which means it will not include the last index\n",
    "print(languages[1:4])  # Slicing from index 1 to 3\n",
    "print(languages[1:])  # Slicing from index 1 to the end of the list\n",
    "print(languages[:4])  # Slicing from the beginning to index 3\n",
    "print(languages[:])  # Slicing from the beginning to the end of the list\n",
    "print(languages[::2])  # Slicing from the beginning to the end of the list with a step of 2\n",
    "print(languages[::-1])  # Slicing from the end to the beginning of the list (reversing the list)\n",
    "print(languages[-1:-4:-1])  # Slicing from the last element to the third last element in reverse order\n",
    "print(languages[-4:-1])  # Slicing from the fourth last element to the second last element\n",
    "print(languages[-1:-4])  # This will return an empty list because the start index is greater than the end index\n",
    "print(languages[1::2])  # Slicing from index 1 to the end of the list with a step of 2\n",
    "print(languages[::3])  # Slicing from the beginning to the end of the list with a step of 3\n",
    "print(languages[1:4:2])  # Slicing from index 1 to index 3 with a step of 2"
   ]
  },
  {
   "cell_type": "code",
   "execution_count": null,
   "id": "f6496619",
   "metadata": {},
   "outputs": [],
   "source": [
    "numbers = [1, 2, 3, 4, 5, 6, 7, 8, 9, 10]\n",
    "print(numbers[::2])  # Slicing from the beginning to the end of the list with a step of 2\n",
    "print(numbers[::-1])  # Slicing from the end to the beginning of the list (reversing the list)\n",
    "print(numbers[-1:-6:-1])  # Slicing from the last element to the sixth last element in reverse order\n",
    "print(numbers[-6:-1])  # Slicing from the sixth last element to the second last element\n",
    "print(numbers[1:6:-2])  # Slicing from the second element to the sixth element in reverse order but this will return an empty list\n",
    "print(numbers[6:1:-2])  # Slicing from the sixth element to the second element in reverse order by -2 step\n",
    "print(numbers[-1:-6])  # This will return an empty list because the start index is greater than the end index"
   ]
  },
  {
   "cell_type": "code",
   "execution_count": 10,
   "id": "41ea1964",
   "metadata": {},
   "outputs": [
    {
     "name": "stdout",
     "output_type": "stream",
     "text": [
      "['j', 'i', 'h', 'g', 'f', 'e', 'd', 'c', 'b', 'a']\n",
      "['j', 'i', 'h', 'g', 'f', 'e', 'd', 'c', 'b', 'a']\n"
     ]
    }
   ],
   "source": [
    "alphabaets= [\"a\", \"b\", \"c\", \"d\", \"e\", \"f\", \"g\", \"h\", \"i\", \"j\"]\n",
    "print(alphabaets[::-1])  # Slicing from the end to the beginning of the list (reversing the list)\n",
    "(alphabaets.reverse())  # This will reverse the list in place\n",
    "print(alphabaets)  # This will print the reversed list"
   ]
  },
  {
   "cell_type": "markdown",
   "id": "911cfe56",
   "metadata": {},
   "source": [
    "list operations / methods and what they do \n",
    "# list operations \n",
    "# methods\n",
    "# append() : this method adds an element to the end of the list\n",
    "# pop() : this method removes an element from the end of the list\n",
    "# remove() : this method removes the first occurrence of the specified element from the list\n",
    "# sort() : this method sorts the list in ascending order\n",
    "# reverse() : this method reverses the order of the elements in the list\n",
    "# copy() : this method returns a copy of the list\n",
    "# join() : this method joins all the elements of the list into a string\n",
    "# split() : this method splits the string into a list of substrings\n",
    "# index() : this method returns the index of the first occurrence of the specified element in the list\n",
    "# count() : this method returns the number of times the specified element appears in the list\n",
    "# sort() : this method sorts the list in ascending order\n",
    "\n",
    "\n"
   ]
  }
 ],
 "metadata": {
  "kernelspec": {
   "display_name": "Python 3",
   "language": "python",
   "name": "python3"
  },
  "language_info": {
   "codemirror_mode": {
    "name": "ipython",
    "version": 3
   },
   "file_extension": ".py",
   "mimetype": "text/x-python",
   "name": "python",
   "nbconvert_exporter": "python",
   "pygments_lexer": "ipython3",
   "version": "3.12.10"
  }
 },
 "nbformat": 4,
 "nbformat_minor": 5
}
